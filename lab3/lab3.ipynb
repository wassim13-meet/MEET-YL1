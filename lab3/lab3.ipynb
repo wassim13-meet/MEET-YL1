{
 "metadata": {
  "name": ""
 },
 "nbformat": 3,
 "nbformat_minor": 0,
 "worksheets": [
  {
   "cells": [
    {
     "cell_type": "code",
     "collapsed": false,
     "input": [],
     "language": "python",
     "metadata": {},
     "outputs": []
    },
    {
     "cell_type": "code",
     "collapsed": false,
     "input": [
      "import csv\n",
      "f=open(\"cig.csv\",\"rb\")\n",
      "r=csv.reader(f)\n",
      "tar=[]\n",
      "nicotine=[]\n",
      "for row in r:\n",
      "    a=row[0].replace(\"\\t\",\" \")\n",
      "    b=a.split()\n",
      "    b=b[1:]\n",
      "    b=map(float, b)\n",
      "    tar.append(b[0])\n",
      "    nicotine.append(b[1])\n",
      "f.close()\n",
      "print tar\n",
      "print nicotine\n",
      "from pylab import *\n",
      "\n",
      "\n",
      "fig = plt.figure()\n",
      "ax = fig.add_subplot(111)\n",
      "scatter(tar,nicotine)\n",
      "ax.set_title('Cig')\n",
      "ax.set_xlabel('tar')\n",
      "ax.set_ylabel('nicotine')\n",
      "savefig(\"cig_scatter.png\")\n"
     ],
     "language": "python",
     "metadata": {},
     "outputs": [
      {
       "output_type": "stream",
       "stream": "stdout",
       "text": [
        "[14.1, 16.0, 29.8, 8.0, 4.1, 15.0, 8.8, 12.4, 16.6, 14.9, 13.7, 15.1, 7.8, 11.4, 9.0, 1.0, 17.0, 12.8, 15.8, 4.5, 14.5, 7.3, 8.6, 15.2, 12.0]\n",
        "[0.86, 1.06, 2.03, 0.67, 0.4, 1.04, 0.76, 0.95, 1.12, 1.02, 1.01, 0.9, 0.57, 0.78, 0.74, 0.13, 1.26, 1.08, 0.96, 0.42, 1.01, 0.61, 0.69, 1.02, 0.82]\n"
       ]
      },
      {
       "metadata": {},
       "output_type": "display_data",
       "png": "[encoded data removed]",
       "text": [
        "<matplotlib.figure.Figure at 0x9f7b4ec>"
       ]
      }
     ],
     "prompt_number": 10
    },
    {
     "cell_type": "code",
     "collapsed": false,
     "input": [],
     "language": "python",
     "metadata": {},
     "outputs": []
    }
   ],
   "metadata": {}
  }
 ]
}