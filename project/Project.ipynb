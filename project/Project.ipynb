{
 "metadata": {
  "name": ""
 },
 "nbformat": 3,
 "nbformat_minor": 0,
 "worksheets": [
  {
   "cells": [
    {
     "cell_type": "markdown",
     "metadata": {},
     "source": [
      "http://data.worldbank.org/indicator/IS.VEH.NVEH.P3"
     ]
    },
    {
     "cell_type": "code",
     "collapsed": false,
     "input": [
      "import csv\n",
      "f = open(\"motor_vehicles.csv\",\"rb\")\n",
      "reader = csv.reader(f)\n",
      "country=[]\n",
      "carnum=[]\n",
      "x=0\n",
      "for row in reader:\n",
      "    \n",
      "    if x != 0:\n",
      "        \n",
      "        \n",
      "        a=row[1].split()\n",
      "        c=row[52].split()\n",
      "        d=map(float,c)\n",
      "        \n",
      "        \n",
      "    \n",
      "        if (x>=52):\n",
      "            country.append(a[0])\n",
      "            carnum.append(d[0])\n",
      "    x+=1\n",
      "print country\n",
      "print carnum\n",
      "\n",
      "\n",
      "\n",
      "\n",
      "\n",
      "\n",
      "\n",
      "\n",
      "\n",
      "\n",
      "\n",
      "\n",
      "        \n",
      "        \n",
      "    \n",
      "        \n",
      "    "
     ],
     "language": "python",
     "metadata": {},
     "outputs": [
      {
       "output_type": "stream",
       "stream": "stdout",
       "text": [
        "['LMC', 'LMY', 'LTU', 'LUX', 'LVA', 'MAC', 'MDA', 'MDV', 'MEX', 'MLT', 'MUS', 'MYS', 'NAC', 'NLD', 'NOC', 'NOR', 'NZL', 'OEC', 'OED', 'PAN', 'PER', 'PHL', 'POL', 'PRI', 'ROU', 'RUS', 'SAS', 'SGP', 'SRB', 'SUR', 'SVK', 'SVN', 'SWE', 'TUN', 'TUR', 'UKR', 'UMC', 'URY', 'USA']\n",
        "[26.5820314777107, 55.0244665436244, 555.0, 739.0, 459.0, 161.0, 146.0, 24.0, 276.380381960645, 679.276383168944, 166.0, 350.0, 782.684938386972, 523.326849065778, 285.124590394969, 578.0, 718.0, 627.08712756366, 563.125136279828, 126.171936750883, 68.0, 29.3519455345178, 508.0, 596.0, 230.0, 271.0, 17.3962306822512, 147.85648408052, 255.869493225963, 280.551814368723, 348.0, 566.0, 519.0, 118.377474239156, 142.0, 167.0, 89.1600747852723, 200.0, 802.0]\n"
       ]
      }
     ],
     "prompt_number": 70
    },
    {
     "cell_type": "code",
     "collapsed": false,
     "input": [
      "\n",
      "from pylab import *\n",
      "\n",
      "\n",
      "fig = plt.figure()\n",
      "ax = fig.add_subplot(111)\n",
      "ax.set_title('Number of Vehicles per 1000 people in each country')\n",
      "ax.set_xlabel('country')\n",
      "ax.set_ylabel('number of cars')\n",
      "ax.bar(range (len(country)),carnum)\n",
      "\n",
      "\n"
     ],
     "language": "python",
     "metadata": {},
     "outputs": [
      {
       "metadata": {},
       "output_type": "pyout",
       "prompt_number": 67,
       "text": [
        "<Container object of 39 artists>"
       ]
      },
      {
       "metadata": {},
       "output_type": "display_data",
       "png": "[encoded data removed]",
       "text": [
        "<matplotlib.figure.Figure at 0xa1d0c8c>"
       ]
      }
     ],
     "prompt_number": 67
    },
    {
     "cell_type": "markdown",
     "metadata": {},
     "source": [
      "In the graph you can see the number of cars for every 1000 people in each country.Each number on the x axis represents a country but since we couldn't change the label to strings.\n"
     ]
    }
   ],
   "metadata": {}
  }
 ]
}